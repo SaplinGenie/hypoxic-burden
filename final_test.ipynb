{
 "cells": [
  {
   "cell_type": "code",
   "execution_count": null,
   "metadata": {},
   "outputs": [],
   "source": [
    "import tkinter as tk\n",
    "from tkinter import filedialog, messagebox\n",
    "from pyedflib import highlevel\n",
    "import pandas as pd"
   ]
  },
  {
   "cell_type": "code",
   "execution_count": null,
   "metadata": {},
   "outputs": [],
   "source": [
    "# Define the main application\n",
    "root = tk.Tk()\n",
    "root.title(\"EDF File Viewer and Processor\")\n",
    "root.geometry(\"800x600\")"
   ]
  },
  {
   "cell_type": "code",
   "execution_count": null,
   "metadata": {},
   "outputs": [
    {
     "name": "stderr",
     "output_type": "stream",
     "text": [
      "2024-11-25 11:55:05.996 Python[14953:6427117] +[IMKClient subclass]: chose IMKClient_Legacy\n",
      "2024-11-25 11:55:05.996 Python[14953:6427117] +[IMKInputSession subclass]: chose IMKInputSession_Legacy\n",
      "2024-11-25 11:55:07.584 Python[14953:6427117] The class 'NSOpenPanel' overrides the method identifier.  This method is implemented by class 'NSWindow'\n"
     ]
    },
    {
     "ename": "",
     "evalue": "",
     "output_type": "error",
     "traceback": [
      "\u001b[1;31m在目前儲存格或上一個儲存格中執行程式碼時，Kernel 已損毀。\n",
      "\u001b[1;31m請檢閱儲存格中的程式碼，找出失敗的可能原因。\n",
      "\u001b[1;31m如需詳細資訊，請按一下<a href='https://aka.ms/vscodeJupyterKernelCrash'>這裡</a>。\n",
      "\u001b[1;31m如需詳細資料，請檢視 Jupyter <a href='command:jupyter.viewOutput'>記錄</a>。"
     ]
    }
   ],
   "source": [
    "# Define functions\n",
    "def upload_file():\n",
    "    file_path = filedialog.askopenfilename(filetypes=[(\"EDF files\", \"*.edf\")])\n",
    "    if not file_path:\n",
    "        return\n",
    "    try:\n",
    "        # Process the file\n",
    "        result = process_edf_file(file_path)\n",
    "        text_area.delete(\"1.0\", tk.END)\n",
    "        text_area.insert(tk.END, result)\n",
    "    except Exception as e:\n",
    "        messagebox.showerror(\"Error\", f\"Failed to process file: {e}\")\n",
    "\n",
    "def process_edf_file(file):\n",
    "    # Read the EDF file\n",
    "    signals, signal_headers, header = highlevel.read_edf(file)\n",
    "\n",
    "    # Find saturation and desaturation channels\n",
    "    def get_pos():\n",
    "        index_saturation = 0\n",
    "        info_saturation = ''\n",
    "        index_desaturation = 0\n",
    "        info_desaturation = ''\n",
    "\n",
    "        for index, item in enumerate(signal_headers):\n",
    "            if item['label'] == 'Saturation':\n",
    "                index_saturation = index\n",
    "                info_saturation = item\n",
    "            if item['label'] == 'Desaturation':\n",
    "                index_desaturation = index\n",
    "                info_desaturation = item   \n",
    "\n",
    "        return index_saturation, info_saturation, index_desaturation, info_desaturation\n",
    "\n",
    "    index_saturation, _, index_desaturation, _ = get_pos()\n",
    "    value_saturation = signals[index_saturation]\n",
    "    value_desaturation = signals[index_desaturation]\n",
    "\n",
    "    # Process desaturation values\n",
    "    new_value_desaturation = []\n",
    "    for index in range(len(value_desaturation)):\n",
    "        if index % 10 == 0:\n",
    "            if value_desaturation[index] != 0.0:\n",
    "                new_value_desaturation.append(100)\n",
    "            else:\n",
    "                new_value_desaturation.append(value_desaturation[index])\n",
    "\n",
    "    if len(new_value_desaturation) != len(value_saturation):\n",
    "        raise ValueError(\"Length mismatch between processed desaturation and saturation signals.\")\n",
    "\n",
    "    # Calculate the area under the curve\n",
    "    start_point = 0\n",
    "    end_point = 0\n",
    "    max_val = 0\n",
    "    res = 0\n",
    "\n",
    "    for index, value in enumerate(new_value_desaturation):\n",
    "        if value != 0.0:\n",
    "            if new_value_desaturation[index-1] == 0.0:\n",
    "                start_point = index\n",
    "                max_val = value_saturation[start_point]\n",
    "            if new_value_desaturation[index+1] == 0.0:\n",
    "                end_point = index\n",
    "            \n",
    "            if (value_saturation[index+1] > max_val) and ((index+1) != 0.0):\n",
    "                max_val = value_saturation[index+1]\n",
    "\n",
    "            if end_point > start_point:\n",
    "                area_res = 0\n",
    "                for i in range(start_point, end_point):\n",
    "                    area_res += (max_val - value_saturation[i])\n",
    "                res += area_res\n",
    "\n",
    "    # Calculate final results\n",
    "    total_duration = len(new_value_desaturation)\n",
    "    processed_value = res / (120 * (total_duration / 3600))\n",
    "\n",
    "    # Return results as a string\n",
    "    result = f\"Raw Data (Area): {res}\\n\" \\\n",
    "             f\"Total Duration (s): {total_duration}\\n\" \\\n",
    "             f\"Processed Value: {processed_value}\"\n",
    "    return result\n",
    "\n",
    "# Widgets\n",
    "upload_button = tk.Button(root, text=\"Upload EDF File\", command=upload_file)\n",
    "upload_button.pack(pady=10)\n",
    "\n",
    "text_area = tk.Text(root, wrap=tk.WORD, height=20, width=100)\n",
    "text_area.pack(padx=10, pady=10, fill=tk.BOTH, expand=True)\n"
   ]
  },
  {
   "cell_type": "code",
   "execution_count": null,
   "metadata": {},
   "outputs": [],
   "source": [
    "# label\n",
    "label = tk.Label(\n",
    "    text=\"Hello, Tkinter\",\n",
    "    fg=\"white\",\n",
    "    bg=\"black\",\n",
    "    width=10,\n",
    "    height=10\n",
    ")\n",
    "label.pack()"
   ]
  },
  {
   "cell_type": "code",
   "execution_count": null,
   "metadata": {},
   "outputs": [
    {
     "name": "stderr",
     "output_type": "stream",
     "text": [
      "2024-11-25 11:31:28.495 Python[10383:6390854] +[IMKClient subclass]: chose IMKClient_Legacy\n",
      "2024-11-25 11:31:28.495 Python[10383:6390854] +[IMKInputSession subclass]: chose IMKInputSession_Legacy\n",
      "2024-11-25 11:31:30.272 Python[10383:6390854] TSM AdjustCapsLockLEDForKeyTransitionHandling - _ISSetPhysicalKeyboardCapsLockLED Inhibit\n"
     ]
    }
   ],
   "source": [
    "# Run the main loop\n",
    "root.mainloop()"
   ]
  },
  {
   "cell_type": "code",
   "execution_count": null,
   "metadata": {},
   "outputs": [],
   "source": []
  }
 ],
 "metadata": {
  "kernelspec": {
   "display_name": "hb-sys",
   "language": "python",
   "name": "python3"
  },
  "language_info": {
   "codemirror_mode": {
    "name": "ipython",
    "version": 3
   },
   "file_extension": ".py",
   "mimetype": "text/x-python",
   "name": "python",
   "nbconvert_exporter": "python",
   "pygments_lexer": "ipython3",
   "version": "3.12.4"
  }
 },
 "nbformat": 4,
 "nbformat_minor": 2
}
